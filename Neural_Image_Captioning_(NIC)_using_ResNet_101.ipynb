{
  "nbformat": 4,
  "nbformat_minor": 0,
  "metadata": {
    "colab": {
      "name": "Neural Image Captioning (NIC) using ResNet-101",
      "provenance": [],
      "collapsed_sections": [
        "PmugZ_i_IIcD"
      ],
      "authorship_tag": "ABX9TyN4VAftWGCINWaosPCYI0Hk",
      "include_colab_link": true
    },
    "kernelspec": {
      "name": "python3",
      "display_name": "Python 3"
    },
    "accelerator": "GPU",
    "widgets": {
      "application/vnd.jupyter.widget-state+json": {
        "76bcb0b8b30441a6ab877079972777dc": {
          "model_module": "@jupyter-widgets/controls",
          "model_name": "HBoxModel",
          "state": {
            "_view_name": "HBoxView",
            "_dom_classes": [],
            "_model_name": "HBoxModel",
            "_view_module": "@jupyter-widgets/controls",
            "_model_module_version": "1.5.0",
            "_view_count": null,
            "_view_module_version": "1.5.0",
            "box_style": "",
            "layout": "IPY_MODEL_ff222096f65c44a3b4711ba65d64a98d",
            "_model_module": "@jupyter-widgets/controls",
            "children": [
              "IPY_MODEL_ca22585fe3c149a4af9f95bf112a9d37",
              "IPY_MODEL_5c148ae2261942bcbf1273c3b3e3d578"
            ]
          }
        },
        "ff222096f65c44a3b4711ba65d64a98d": {
          "model_module": "@jupyter-widgets/base",
          "model_name": "LayoutModel",
          "state": {
            "_view_name": "LayoutView",
            "grid_template_rows": null,
            "right": null,
            "justify_content": null,
            "_view_module": "@jupyter-widgets/base",
            "overflow": null,
            "_model_module_version": "1.2.0",
            "_view_count": null,
            "flex_flow": null,
            "width": null,
            "min_width": null,
            "border": null,
            "align_items": null,
            "bottom": null,
            "_model_module": "@jupyter-widgets/base",
            "top": null,
            "grid_column": null,
            "overflow_y": null,
            "overflow_x": null,
            "grid_auto_flow": null,
            "grid_area": null,
            "grid_template_columns": null,
            "flex": null,
            "_model_name": "LayoutModel",
            "justify_items": null,
            "grid_row": null,
            "max_height": null,
            "align_content": null,
            "visibility": null,
            "align_self": null,
            "height": null,
            "min_height": null,
            "padding": null,
            "grid_auto_rows": null,
            "grid_gap": null,
            "max_width": null,
            "order": null,
            "_view_module_version": "1.2.0",
            "grid_template_areas": null,
            "object_position": null,
            "object_fit": null,
            "grid_auto_columns": null,
            "margin": null,
            "display": null,
            "left": null
          }
        },
        "ca22585fe3c149a4af9f95bf112a9d37": {
          "model_module": "@jupyter-widgets/controls",
          "model_name": "FloatProgressModel",
          "state": {
            "_view_name": "ProgressView",
            "style": "IPY_MODEL_e20cdc01f6474e589c76b89fedbfb7b8",
            "_dom_classes": [],
            "description": "100%",
            "_model_name": "FloatProgressModel",
            "bar_style": "success",
            "max": 178728960,
            "_view_module": "@jupyter-widgets/controls",
            "_model_module_version": "1.5.0",
            "value": 178728960,
            "_view_count": null,
            "_view_module_version": "1.5.0",
            "orientation": "horizontal",
            "min": 0,
            "description_tooltip": null,
            "_model_module": "@jupyter-widgets/controls",
            "layout": "IPY_MODEL_fc17cf7c122d436c828141c324cbc7e1"
          }
        },
        "5c148ae2261942bcbf1273c3b3e3d578": {
          "model_module": "@jupyter-widgets/controls",
          "model_name": "HTMLModel",
          "state": {
            "_view_name": "HTMLView",
            "style": "IPY_MODEL_55ced85796e341fbb9bbb15b50a23918",
            "_dom_classes": [],
            "description": "",
            "_model_name": "HTMLModel",
            "placeholder": "​",
            "_view_module": "@jupyter-widgets/controls",
            "_model_module_version": "1.5.0",
            "value": " 170M/170M [00:11&lt;00:00, 14.9MB/s]",
            "_view_count": null,
            "_view_module_version": "1.5.0",
            "description_tooltip": null,
            "_model_module": "@jupyter-widgets/controls",
            "layout": "IPY_MODEL_e0255a99320242d5bfbdf3a228a7f70f"
          }
        },
        "e20cdc01f6474e589c76b89fedbfb7b8": {
          "model_module": "@jupyter-widgets/controls",
          "model_name": "ProgressStyleModel",
          "state": {
            "_view_name": "StyleView",
            "_model_name": "ProgressStyleModel",
            "description_width": "initial",
            "_view_module": "@jupyter-widgets/base",
            "_model_module_version": "1.5.0",
            "_view_count": null,
            "_view_module_version": "1.2.0",
            "bar_color": null,
            "_model_module": "@jupyter-widgets/controls"
          }
        },
        "fc17cf7c122d436c828141c324cbc7e1": {
          "model_module": "@jupyter-widgets/base",
          "model_name": "LayoutModel",
          "state": {
            "_view_name": "LayoutView",
            "grid_template_rows": null,
            "right": null,
            "justify_content": null,
            "_view_module": "@jupyter-widgets/base",
            "overflow": null,
            "_model_module_version": "1.2.0",
            "_view_count": null,
            "flex_flow": null,
            "width": null,
            "min_width": null,
            "border": null,
            "align_items": null,
            "bottom": null,
            "_model_module": "@jupyter-widgets/base",
            "top": null,
            "grid_column": null,
            "overflow_y": null,
            "overflow_x": null,
            "grid_auto_flow": null,
            "grid_area": null,
            "grid_template_columns": null,
            "flex": null,
            "_model_name": "LayoutModel",
            "justify_items": null,
            "grid_row": null,
            "max_height": null,
            "align_content": null,
            "visibility": null,
            "align_self": null,
            "height": null,
            "min_height": null,
            "padding": null,
            "grid_auto_rows": null,
            "grid_gap": null,
            "max_width": null,
            "order": null,
            "_view_module_version": "1.2.0",
            "grid_template_areas": null,
            "object_position": null,
            "object_fit": null,
            "grid_auto_columns": null,
            "margin": null,
            "display": null,
            "left": null
          }
        },
        "55ced85796e341fbb9bbb15b50a23918": {
          "model_module": "@jupyter-widgets/controls",
          "model_name": "DescriptionStyleModel",
          "state": {
            "_view_name": "StyleView",
            "_model_name": "DescriptionStyleModel",
            "description_width": "",
            "_view_module": "@jupyter-widgets/base",
            "_model_module_version": "1.5.0",
            "_view_count": null,
            "_view_module_version": "1.2.0",
            "_model_module": "@jupyter-widgets/controls"
          }
        },
        "e0255a99320242d5bfbdf3a228a7f70f": {
          "model_module": "@jupyter-widgets/base",
          "model_name": "LayoutModel",
          "state": {
            "_view_name": "LayoutView",
            "grid_template_rows": null,
            "right": null,
            "justify_content": null,
            "_view_module": "@jupyter-widgets/base",
            "overflow": null,
            "_model_module_version": "1.2.0",
            "_view_count": null,
            "flex_flow": null,
            "width": null,
            "min_width": null,
            "border": null,
            "align_items": null,
            "bottom": null,
            "_model_module": "@jupyter-widgets/base",
            "top": null,
            "grid_column": null,
            "overflow_y": null,
            "overflow_x": null,
            "grid_auto_flow": null,
            "grid_area": null,
            "grid_template_columns": null,
            "flex": null,
            "_model_name": "LayoutModel",
            "justify_items": null,
            "grid_row": null,
            "max_height": null,
            "align_content": null,
            "visibility": null,
            "align_self": null,
            "height": null,
            "min_height": null,
            "padding": null,
            "grid_auto_rows": null,
            "grid_gap": null,
            "max_width": null,
            "order": null,
            "_view_module_version": "1.2.0",
            "grid_template_areas": null,
            "object_position": null,
            "object_fit": null,
            "grid_auto_columns": null,
            "margin": null,
            "display": null,
            "left": null
          }
        }
      }
    }
  },
  "cells": [
    {
      "cell_type": "markdown",
      "metadata": {
        "id": "view-in-github",
        "colab_type": "text"
      },
      "source": [
        "<a href=\"https://colab.research.google.com/github/ndb796/PyTorch-Neural-Image-Caption-Generator/blob/main/Neural_Image_Captioning_(NIC)_using_ResNet_101.ipynb\" target=\"_parent\"><img src=\"https://colab.research.google.com/assets/colab-badge.svg\" alt=\"Open In Colab\"/></a>"
      ]
    },
    {
      "cell_type": "markdown",
      "metadata": {
        "id": "PmugZ_i_IIcD"
      },
      "source": [
        "#### <b>[코드 구현] Show and Tell: A Neural Image Caption Generator (CVPR 2015)</b>\n",
        "* 본 소스코드는 원본 논문에서 제안한 아키텍처를 최대한 따르고 있습니다.\n",
        "* CNN 아키텍처로 ResNet-101을 사용합니다.\n",
        "* 학습용 데이터셋: <b>Flickr8k</b>\n",
        "* 참고 소스코드: [yunjey](https://github.com/yunjey/pytorch-tutorial/tree/master/tutorials/03-advanced/image_captioning)"
      ]
    },
    {
      "cell_type": "markdown",
      "metadata": {
        "id": "GBjl7hG9cSp8"
      },
      "source": [
        "#### <b>Flickr8k 데이터셋 다운로드</b>\n",
        "\n",
        "* Flickr8k 데이터셋 다운로드 및 압축 해제"
      ]
    },
    {
      "cell_type": "code",
      "metadata": {
        "id": "kS2lBamDqI7F",
        "colab": {
          "base_uri": "https://localhost:8080/"
        },
        "outputId": "3c9a87fe-f61a-451a-cbf7-3642dd499c53"
      },
      "source": [
        "!wget https://postechackr-my.sharepoint.com/:u:/g/personal/dongbinna_postech_ac_kr/EXVy7_7pF5FIsPp6WfXXfWgBNfUKx8N1VrTisN8FbGYG9w?download=1 -O Flickr8k_dataset.zip"
      ],
      "execution_count": null,
      "outputs": [
        {
          "output_type": "stream",
          "text": [
            "--2020-12-03 00:13:43--  https://postechackr-my.sharepoint.com/:u:/g/personal/dongbinna_postech_ac_kr/EXVy7_7pF5FIsPp6WfXXfWgBNfUKx8N1VrTisN8FbGYG9w?download=1\n",
            "Resolving postechackr-my.sharepoint.com (postechackr-my.sharepoint.com)... 13.107.136.9\n",
            "Connecting to postechackr-my.sharepoint.com (postechackr-my.sharepoint.com)|13.107.136.9|:443... connected.\n",
            "HTTP request sent, awaiting response... 302 Found\n",
            "Location: /personal/dongbinna_postech_ac_kr/Documents/Research/datasets/Flickr8k_dataset.zip?originalPath=aHR0cHM6Ly9wb3N0ZWNoYWNrci1teS5zaGFyZXBvaW50LmNvbS86dTovZy9wZXJzb25hbC9kb25nYmlubmFfcG9zdGVjaF9hY19rci9FWFZ5N183cEY1RklzUHA2V2ZYWGZXZ0JOZlVLeDhOMVZyVGlzTjhGYkdZRzl3P3J0aW1lPWNUdklTeUNYMkVn [following]\n",
            "--2020-12-03 00:13:43--  https://postechackr-my.sharepoint.com/personal/dongbinna_postech_ac_kr/Documents/Research/datasets/Flickr8k_dataset.zip?originalPath=aHR0cHM6Ly9wb3N0ZWNoYWNrci1teS5zaGFyZXBvaW50LmNvbS86dTovZy9wZXJzb25hbC9kb25nYmlubmFfcG9zdGVjaF9hY19rci9FWFZ5N183cEY1RklzUHA2V2ZYWGZXZ0JOZlVLeDhOMVZyVGlzTjhGYkdZRzl3P3J0aW1lPWNUdklTeUNYMkVn\n",
            "Reusing existing connection to postechackr-my.sharepoint.com:443.\n",
            "HTTP request sent, awaiting response... 200 OK\n",
            "Length: 1112971163 (1.0G) [application/x-zip-compressed]\n",
            "Saving to: ‘Flickr8k_dataset.zip’\n",
            "\n",
            "Flickr8k_dataset.zi  31%[=====>              ] 335.89M  55.5MB/s    eta 20s    ^C\n"
          ],
          "name": "stdout"
        }
      ]
    },
    {
      "cell_type": "code",
      "metadata": {
        "id": "V6fzkhRPrU8Q"
      },
      "source": [
        "%%capture\n",
        "!unzip Flickr8k_dataset.zip -d ./Flickr8k_dataset"
      ],
      "execution_count": null,
      "outputs": []
    },
    {
      "cell_type": "markdown",
      "metadata": {
        "id": "NS6O9OiHgJNP"
      },
      "source": [
        "#### <b>필요한 버전의 라이브러리 설치</b>\n",
        "\n",
        "* BLEU Score 계산을 위해 라이브러리 재설치"
      ]
    },
    {
      "cell_type": "code",
      "metadata": {
        "colab": {
          "base_uri": "https://localhost:8080/"
        },
        "id": "Fyo5IeXwgMkh",
        "outputId": "7198c312-9de6-4f37-e8c1-7b2b7e82d01d"
      },
      "source": [
        "!pip install torchtext==0.6.0"
      ],
      "execution_count": null,
      "outputs": [
        {
          "output_type": "stream",
          "text": [
            "Collecting torchtext==0.6.0\n",
            "\u001b[?25l  Downloading https://files.pythonhosted.org/packages/f2/17/e7c588245aece7aa93f360894179374830daf60d7ed0bbb59332de3b3b61/torchtext-0.6.0-py3-none-any.whl (64kB)\n",
            "\r\u001b[K     |█████                           | 10kB 24.8MB/s eta 0:00:01\r\u001b[K     |██████████▏                     | 20kB 30.6MB/s eta 0:00:01\r\u001b[K     |███████████████▎                | 30kB 16.5MB/s eta 0:00:01\r\u001b[K     |████████████████████▍           | 40kB 13.1MB/s eta 0:00:01\r\u001b[K     |█████████████████████████▌      | 51kB 12.0MB/s eta 0:00:01\r\u001b[K     |██████████████████████████████▋ | 61kB 12.7MB/s eta 0:00:01\r\u001b[K     |████████████████████████████████| 71kB 6.5MB/s \n",
            "\u001b[?25hRequirement already satisfied: numpy in /usr/local/lib/python3.6/dist-packages (from torchtext==0.6.0) (1.18.5)\n",
            "Requirement already satisfied: six in /usr/local/lib/python3.6/dist-packages (from torchtext==0.6.0) (1.15.0)\n",
            "Collecting sentencepiece\n",
            "\u001b[?25l  Downloading https://files.pythonhosted.org/packages/e5/2d/6d4ca4bef9a67070fa1cac508606328329152b1df10bdf31fb6e4e727894/sentencepiece-0.1.94-cp36-cp36m-manylinux2014_x86_64.whl (1.1MB)\n",
            "\u001b[K     |████████████████████████████████| 1.1MB 23.6MB/s \n",
            "\u001b[?25hRequirement already satisfied: requests in /usr/local/lib/python3.6/dist-packages (from torchtext==0.6.0) (2.23.0)\n",
            "Requirement already satisfied: tqdm in /usr/local/lib/python3.6/dist-packages (from torchtext==0.6.0) (4.41.1)\n",
            "Requirement already satisfied: torch in /usr/local/lib/python3.6/dist-packages (from torchtext==0.6.0) (1.7.0+cu101)\n",
            "Requirement already satisfied: idna<3,>=2.5 in /usr/local/lib/python3.6/dist-packages (from requests->torchtext==0.6.0) (2.10)\n",
            "Requirement already satisfied: urllib3!=1.25.0,!=1.25.1,<1.26,>=1.21.1 in /usr/local/lib/python3.6/dist-packages (from requests->torchtext==0.6.0) (1.24.3)\n",
            "Requirement already satisfied: chardet<4,>=3.0.2 in /usr/local/lib/python3.6/dist-packages (from requests->torchtext==0.6.0) (3.0.4)\n",
            "Requirement already satisfied: certifi>=2017.4.17 in /usr/local/lib/python3.6/dist-packages (from requests->torchtext==0.6.0) (2020.11.8)\n",
            "Requirement already satisfied: future in /usr/local/lib/python3.6/dist-packages (from torch->torchtext==0.6.0) (0.16.0)\n",
            "Requirement already satisfied: typing-extensions in /usr/local/lib/python3.6/dist-packages (from torch->torchtext==0.6.0) (3.7.4.3)\n",
            "Requirement already satisfied: dataclasses in /usr/local/lib/python3.6/dist-packages (from torch->torchtext==0.6.0) (0.8)\n",
            "Installing collected packages: sentencepiece, torchtext\n",
            "  Found existing installation: torchtext 0.3.1\n",
            "    Uninstalling torchtext-0.3.1:\n",
            "      Successfully uninstalled torchtext-0.3.1\n",
            "Successfully installed sentencepiece-0.1.94 torchtext-0.6.0\n"
          ],
          "name": "stdout"
        }
      ]
    },
    {
      "cell_type": "markdown",
      "metadata": {
        "id": "k0tegtLd0Jkv"
      },
      "source": [
        "#### <b>이미지 크기 조정(Resize)</b>\n",
        "\n",
        "* 데이터셋에 포함된 모든 이미지의 크기를 조정합니다."
      ]
    },
    {
      "cell_type": "code",
      "metadata": {
        "id": "tY_FuJbzxB57",
        "colab": {
          "base_uri": "https://localhost:8080/"
        },
        "outputId": "31c93496-7dfc-4e7d-9c2a-34b3f5fda0c8"
      },
      "source": [
        "import os\n",
        "from PIL import Image\n",
        "\n",
        "image_dir = \"./Flickr8k_dataset/Images\" # 원본 이미지 파일 경로\n",
        "train_image_dir = \"./resized_train/images\" # 크기가 조정된 이미지가 담길 경로 (학습)\n",
        "val_image_dir = \"./resized_val/images\" # 크기가 조정된 이미지가 담길 경로 (평가)\n",
        "test_image_dir = \"./resized_test/images\" # 크기가 조정된 이미지가 담길 경로 (테스트)\n",
        "size = [256, 256] # 조정될 이미지 크기\n",
        "\n",
        "\n",
        "def resize_image(image, size):\n",
        "    # 이미지를 특정 크기로 조정\n",
        "    return image.resize(size, Image.ANTIALIAS)\n",
        "\n",
        "# image_dir 내부에 있는 모든 이미지의 크기를 바꾸어 결과 폴더로 옮기기\n",
        "if not os.path.exists(train_image_dir):\n",
        "    os.makedirs(train_image_dir)\n",
        "if not os.path.exists(val_image_dir):\n",
        "    os.makedirs(val_image_dir)\n",
        "if not os.path.exists(test_image_dir):\n",
        "    os.makedirs(test_image_dir)\n",
        "\n",
        "images = sorted(os.listdir(image_dir)) # 이미지와 캡션 모두 파일 이름별로 정렬해서 매칭\n",
        "num_images = len(images)\n",
        "num_train_images = 6000 # 6000개는 학습용 데이터로 이용\n",
        "num_val_images = 1000 # 1000개는 평가용 데이터로 이용\n",
        "\n",
        "for i, image in enumerate(images):\n",
        "    if (i + 1) <= num_train_images:\n",
        "        output_dir = train_image_dir\n",
        "    elif (i + 1) <= num_train_images + num_val_images:\n",
        "        output_dir = val_image_dir\n",
        "    else:\n",
        "        output_dir = test_image_dir\n",
        "    with open(os.path.join(image_dir, image), 'rb+') as f:\n",
        "        with Image.open(f) as img:\n",
        "            img = resize_image(img, size)\n",
        "            img.save(os.path.join(output_dir, image), img.format)\n",
        "    if (i + 1) % 500 == 0:\n",
        "        print(f\"[{i + 1}/{num_images}] Resized the images and saved into '{output_dir}'\")"
      ],
      "execution_count": null,
      "outputs": [
        {
          "output_type": "stream",
          "text": [
            "[500/8091] Resized the images and saved into './resized_train/images'\n",
            "[1000/8091] Resized the images and saved into './resized_train/images'\n",
            "[1500/8091] Resized the images and saved into './resized_train/images'\n",
            "[2000/8091] Resized the images and saved into './resized_train/images'\n",
            "[2500/8091] Resized the images and saved into './resized_train/images'\n",
            "[3000/8091] Resized the images and saved into './resized_train/images'\n",
            "[3500/8091] Resized the images and saved into './resized_train/images'\n",
            "[4000/8091] Resized the images and saved into './resized_train/images'\n",
            "[4500/8091] Resized the images and saved into './resized_train/images'\n",
            "[5000/8091] Resized the images and saved into './resized_train/images'\n",
            "[5500/8091] Resized the images and saved into './resized_train/images'\n",
            "[6000/8091] Resized the images and saved into './resized_train/images'\n",
            "[6500/8091] Resized the images and saved into './resized_val/images'\n",
            "[7000/8091] Resized the images and saved into './resized_val/images'\n",
            "[7500/8091] Resized the images and saved into './resized_test/images'\n",
            "[8000/8091] Resized the images and saved into './resized_test/images'\n"
          ],
          "name": "stdout"
        }
      ]
    },
    {
      "cell_type": "markdown",
      "metadata": {
        "id": "R_kamUzwx71P"
      },
      "source": [
        "#### <b>캡션을 이용해 Vocabulary 만들기</b>\n",
        "\n",
        "* 현재의 Flickr8k_dataset에 <b>총 8,091개의 이미지</b>가 포함되어 있습니다.\n",
        "* 이미지마다 5개의 캡션이 붙어 있으므로 <b>총 40,455개의 문장</b>이 존재합니다."
      ]
    },
    {
      "cell_type": "code",
      "metadata": {
        "id": "ifcomEM_rJ3C",
        "colab": {
          "base_uri": "https://localhost:8080/"
        },
        "outputId": "00dc7238-3ea1-447a-f2ca-c06983f90887"
      },
      "source": [
        "import pickle\n",
        "import nltk\n",
        "from collections import Counter\n",
        "\n",
        "nltk.download('punkt')\n",
        "\n",
        "caption_path = \"./Flickr8k_dataset/captions.txt\" # 원본 캡션(caption) 파일\n",
        "vocab_path = \"./vocab.pkl\" # 단어 사전 결과 파일\n",
        "word_threshold = 4 # 최소 단어 등장 횟수\n",
        "train_caption_path = \"./resized_train/captions.txt\" # 크기가 조정된 이미지의 캡션(caption)이 담길 경로 (학습)\n",
        "val_caption_path = \"./resized_val/captions.txt\" # 크기가 조정된 이미지의 캡션(caption)이 담길 경로 (평가)\n",
        "test_caption_path = \"./resized_test/captions.txt\" # 크기가 조정된 이미지의 캡션(caption)이 담길 경로 (테스트)\n",
        "\n",
        "\n",
        "class Vocabulary(object):\n",
        "    \"\"\"Simple vocabulary wrapper.\"\"\"\n",
        "    def __init__(self):\n",
        "        self.word2idx = {}\n",
        "        self.idx2word = {}\n",
        "        self.idx = 0\n",
        "\n",
        "    def add_word(self, word):\n",
        "        if not word in self.word2idx:\n",
        "            self.word2idx[word] = self.idx\n",
        "            self.idx2word[self.idx] = word\n",
        "            self.idx += 1\n",
        "\n",
        "    def __call__(self, word):\n",
        "        if not word in self.word2idx:\n",
        "            return self.word2idx['<unk>']\n",
        "        return self.word2idx[word]\n",
        "\n",
        "    def __len__(self):\n",
        "        return len(self.word2idx)\n",
        "\n",
        "counter = Counter()\n",
        "\n",
        "with open(caption_path, \"r\") as f:\n",
        "    lines = sorted(f.readlines()[1:])\n",
        "    for i in range(len(lines)):\n",
        "        line = lines[i]\n",
        "        if (i + 1) <= num_train_images * 5: # 이미지당 캡션이 5개씩 존재\n",
        "            output_caption = train_caption_path\n",
        "        elif (i + 1) <= (num_train_images + num_val_images) * 5:\n",
        "            output_caption = val_caption_path\n",
        "        else:\n",
        "            output_caption = test_caption_path\n",
        "        index = line.find(\",\") # 캡션(caption) 문자열의 시작점 찾기\n",
        "        caption = line[index + 1:] # 캡션(caption) 문자열 기록\n",
        "        tokens = nltk.tokenize.word_tokenize(caption.lower()) # 문자열 토큰화\n",
        "        counter.update(tokens) # 각 토큰의 개수 세기\n",
        "        with open(output_caption, \"a\") as output_caption_f:\n",
        "            output_caption_f.write(line)\n",
        "\n",
        "# 단어의 빈도수가 특정 임계치(threshold) 이상인 경우에만 사용\n",
        "words = [word for word, cnt in counter.items() if cnt >= word_threshold]\n",
        "\n",
        "# Vocabulary 객체 생성\n",
        "vocab = Vocabulary()\n",
        "vocab.add_word('<pad>')\n",
        "vocab.add_word('<start>')\n",
        "vocab.add_word('<end>')\n",
        "vocab.add_word('<unk>') # unknown 토큰\n",
        "\n",
        "# Vocabulary 객체에 모든 단어를 담기\n",
        "for word in words:\n",
        "    vocab.add_word(word)\n",
        "\n",
        "# Vocabulary 파일 저장\n",
        "with open(vocab_path, 'wb') as f:\n",
        "    pickle.dump(vocab, f)"
      ],
      "execution_count": null,
      "outputs": [
        {
          "output_type": "stream",
          "text": [
            "[nltk_data] Downloading package punkt to /root/nltk_data...\n",
            "[nltk_data]   Unzipping tokenizers/punkt.zip.\n"
          ],
          "name": "stdout"
        }
      ]
    },
    {
      "cell_type": "code",
      "metadata": {
        "colab": {
          "base_uri": "https://localhost:8080/"
        },
        "id": "agqO7u_nLIyW",
        "outputId": "d447af55-9da8-4442-8d14-7fc21fa72f30"
      },
      "source": [
        "# 학습(train) 데이터셋의 캡션 수\n",
        "!wc -l ./resized_train/captions.txt\n",
        "# 평가(val) 데이터셋의 캡션 수\n",
        "!wc -l ./resized_val/captions.txt\n",
        "# 테스트(test) 데이터셋의 캡션 수\n",
        "!wc -l ./resized_test/captions.txt"
      ],
      "execution_count": null,
      "outputs": [
        {
          "output_type": "stream",
          "text": [
            "30000 ./resized_train/captions.txt\n",
            "5000 ./resized_val/captions.txt\n",
            "5455 ./resized_test/captions.txt\n"
          ],
          "name": "stdout"
        }
      ]
    },
    {
      "cell_type": "markdown",
      "metadata": {
        "id": "RtlepWmU4J3o"
      },
      "source": [
        "#### <b>커스텀 데이터셋 클래스 정의</b>\n",
        "\n",
        "* Flickr8kDataset 클래스를 정의합니다."
      ]
    },
    {
      "cell_type": "code",
      "metadata": {
        "id": "OENa8v-W4JiB"
      },
      "source": [
        "import torch.utils.data as data\n",
        "\n",
        "\n",
        "# Flickr8k 데이터셋 클래스 정의\n",
        "class Flickr8kDataset(data.Dataset):\n",
        "    def __init__(self, root, captions, vocab, transform=None):\n",
        "        self.root = root # 이미지가 존재하는 경로\n",
        "        with open(captions, \"r\") as f:\n",
        "             lines = f.readlines()\n",
        "             self.captions = [] # 캡션(caption) 정보를 담을 리스트\n",
        "             for line in lines: # 첫 번째 줄부터 바로 캡션 정보 존재\n",
        "                index = line.find(\",\") # 캡션(caption) 문자열의 시작점 찾기\n",
        "                path = line[:index] # 이미지 파일 이름\n",
        "                caption = line[index + 1:] # 캡션(caption) 문자열 기록\n",
        "                self.captions.append((path, caption))\n",
        "        self.vocab = vocab\n",
        "        self.transform = transform\n",
        "\n",
        "    # 이미지와 캡션(caption)을 하나씩 꺼내는 메서드\n",
        "    def __getitem__(self, index):\n",
        "        vocab = self.vocab\n",
        "        path = self.captions[index][0]\n",
        "        caption = self.captions[index][1]\n",
        "\n",
        "        image = Image.open(os.path.join(self.root, path)).convert('RGB')\n",
        "        if self.transform is not None:\n",
        "            image = self.transform(image)\n",
        "\n",
        "        # 캡션(caption) 문자열을 토큰 형태로 바꾸기\n",
        "        tokens = nltk.tokenize.word_tokenize(str(caption).lower())\n",
        "        caption = []\n",
        "        caption.append(vocab('<start>'))\n",
        "        caption.extend([vocab(token) for token in tokens])\n",
        "        caption.append(vocab('<end>'))\n",
        "        target = torch.Tensor(caption)\n",
        "        return image, target\n",
        "\n",
        "    def __len__(self):\n",
        "        return len(self.captions)"
      ],
      "execution_count": null,
      "outputs": []
    },
    {
      "cell_type": "code",
      "metadata": {
        "id": "AtPrZqvr7yUJ"
      },
      "source": [
        "# 이미지와 캡션(caption)으로 구성된 튜플을 배치(batch)로 만들기\n",
        "def collate_fn(data):\n",
        "    \"\"\"\n",
        "    [입력]\n",
        "    * data: list of tuple (image, caption). \n",
        "        * image: torch tensor of shape (3, 256, 256).\n",
        "        * caption: torch tensor of shape (?); variable length.\n",
        "    [출력]\n",
        "    * images: torch tensor of shape (batch_size, 3, 256, 256).\n",
        "    * targets: torch tensor of shape (batch_size, padded_length).\n",
        "    * lengths: list; valid length for each padded caption.\n",
        "    \"\"\"\n",
        "    # Caption 길이로 각 데이터를 내림차순 정렬\n",
        "    data.sort(key=lambda x: len(x[1]), reverse=True)\n",
        "    images, captions = zip(*data)\n",
        "\n",
        "    # 리스트 형태의 이미지들을 텐서 하나로 합치기(데이터 개수, 3, 256, 256)\n",
        "    images = torch.stack(images, 0)\n",
        "\n",
        "    # 리스트 형태의 캡션들을 텐서 하나로 합치기(데이터 개수, 문장 내 최대 토큰 개수)\n",
        "    lengths = [len(caption) for caption in captions]\n",
        "    targets = torch.zeros(len(captions), max(lengths)).long()\n",
        "    # 하나씩 캡션을 확인하며 앞 부분의 내용을 패딩이 아닌 원래 토큰으로 채우기\n",
        "    for i, cap in enumerate(captions):\n",
        "        end = lengths[i]\n",
        "        targets[i, :end] = cap[:end]\n",
        "    return images, targets, lengths\n",
        "\n",
        "def collate_fn_test(data):\n",
        "    # 기존 순서를 그대로 사용 (차례대로 5개씩 같은 이미지를 표현)\n",
        "    images, captions = zip(*data)\n",
        "\n",
        "    # 리스트 형태의 이미지들을 텐서 하나로 합치기(데이터 개수, 3, 256, 256)\n",
        "    images = torch.stack(images, 0)\n",
        "\n",
        "    # 리스트 형태의 캡션들을 텐서 하나로 합치기(데이터 개수, 문장 내 최대 토큰 개수)\n",
        "    lengths = [len(caption) for caption in captions]\n",
        "    targets = torch.zeros(len(captions), max(lengths)).long()\n",
        "    # 하나씩 캡션을 확인하며 앞 부분의 내용을 패딩이 아닌 원래 토큰으로 채우기\n",
        "    for i, cap in enumerate(captions):\n",
        "        end = lengths[i]\n",
        "        targets[i, :end] = cap[:end]\n",
        "    return images, targets, lengths\n",
        "\n",
        "# 커스텀 Flickr8k 데이터셋을 위한 DataLoader 객체 반환\n",
        "def get_loader(root, captions, vocab, transform, batch_size, shuffle, num_workers, testing):\n",
        "    flickr8k = Flickr8kDataset(root=root, captions=captions, vocab=vocab, transform=transform)\n",
        "    # This will return (images, captions, lengths) for each iteration.\n",
        "    # images: a tensor of shape (batch_size, 3, 224, 224).\n",
        "    # captions: a tensor of shape (batch_size, padded_length).\n",
        "    # lengths: a list indicating valid length for each caption. length is (batch_size).\n",
        "    if not testing:\n",
        "        data_loader = torch.utils.data.DataLoader(dataset=flickr8k, batch_size=batch_size, shuffle=shuffle, num_workers=num_workers, collate_fn=collate_fn)\n",
        "    else:\n",
        "        data_loader = torch.utils.data.DataLoader(dataset=flickr8k, batch_size=batch_size, shuffle=shuffle, num_workers=num_workers, collate_fn=collate_fn_test)\n",
        "    return data_loader"
      ],
      "execution_count": null,
      "outputs": []
    },
    {
      "cell_type": "markdown",
      "metadata": {
        "id": "eRqv_RUS1oK4"
      },
      "source": [
        "#### <b>모델 정의</b>\n",
        "\n",
        "* 학습을 위한 Encoder 및 Decoder 모델을 정의합니다.\n",
        "* 본 실습에서는 <b>사전 학습된(pre-trained) ResNet-101 모델</b>을 CNN으로 사용합니다."
      ]
    },
    {
      "cell_type": "code",
      "metadata": {
        "id": "jP1hkjJt1qKo"
      },
      "source": [
        "import torch\n",
        "import torch.nn as nn\n",
        "import torchvision.models as models\n",
        "from torch.nn.utils.rnn import pack_padded_sequence\n",
        "\n",
        "\n",
        "class EncoderCNN(nn.Module):\n",
        "    def __init__(self, embed_size):\n",
        "        # 사전 학습된(pre-trained) ResNet-101을 불러와 FC 레이어를 교체\n",
        "        super(EncoderCNN, self).__init__()\n",
        "        resnet = models.resnet101(pretrained=True)\n",
        "        modules = list(resnet.children())[:-1] # 마지막 FC 레이어를 제거\n",
        "        self.resnet = nn.Sequential(*modules)\n",
        "        self.linear = nn.Linear(resnet.fc.in_features, embed_size) # 결과(output) 차원을 임베딩 차원으로 변경\n",
        "        self.bn = nn.BatchNorm1d(embed_size, momentum=0.01)\n",
        "\n",
        "    def forward(self, images):\n",
        "        # 입력 이미지에서 특징 벡터(feature vectors)\n",
        "        with torch.no_grad(): # 네트워크의 앞 부분은 변경되지 않도록 하기\n",
        "            features = self.resnet(images)\n",
        "        features = features.reshape(features.size(0), -1)\n",
        "        features = self.bn(self.linear(features))\n",
        "        return features\n",
        "\n",
        "\n",
        "class DecoderRNN(nn.Module):\n",
        "    def __init__(self, embed_size, hidden_size, vocab_size, num_layers, max_seq_length=20):\n",
        "        # 하이퍼 파라미터(hyper-parameters) 설정 및 레이어 생성\n",
        "        super(DecoderRNN, self).__init__()\n",
        "        self.embed = nn.Embedding(vocab_size, embed_size)\n",
        "        self.lstm = nn.LSTM(embed_size, hidden_size, num_layers, batch_first=True)\n",
        "        self.linear = nn.Linear(hidden_size, vocab_size)\n",
        "        self.max_seg_length = max_seq_length\n",
        "\n",
        "    def forward(self, features, captions, lengths):\n",
        "        # 이미지 특징 벡터(feature vectors)로부터 캡션(caption) 생성\n",
        "        embeddings = self.embed(captions)\n",
        "        embeddings = torch.cat((features.unsqueeze(1), embeddings), 1) # 이미지 특징과 임베딩 연결\n",
        "        packed = pack_padded_sequence(embeddings, lengths, batch_first=True) # 패딩을 넣어 차원 맞추기\n",
        "        hiddens, _ = self.lstm(packed) # 다음 hidden state 구하기\n",
        "        outputs = self.linear(hiddens[0])\n",
        "        return outputs\n",
        "\n",
        "    def sample(self, features, states=None):\n",
        "        # 간단히 그리디(greedy) 탐색으로 캡션(caption) 생성하기\n",
        "        sampled_indexes = []\n",
        "        inputs = features.unsqueeze(1)\n",
        "        for i in range(self.max_seg_length):\n",
        "            hiddens, states = self.lstm(inputs, states) # hiddens: (batch_size, 1, hidden_size)\n",
        "            outputs = self.linear(hiddens.squeeze(1)) # outputs: (batch_size, vocab_size)\n",
        "            _, predicted = outputs.max(1) # predicted: (batch_size)\n",
        "            sampled_indexes.append(predicted)\n",
        "            inputs = self.embed(predicted) # inputs: (batch_size, embed_size)\n",
        "            inputs = inputs.unsqueeze(1) # inputs: (batch_size, 1, embed_size)\n",
        "        sampled_indexes = torch.stack(sampled_indexes, 1) # sampled_indexes: (batch_size, max_seq_length)\n",
        "        return sampled_indexes"
      ],
      "execution_count": null,
      "outputs": []
    },
    {
      "cell_type": "markdown",
      "metadata": {
        "id": "q_fYBqI9U4pa"
      },
      "source": [
        "#### <b>학습 및 평가 준비하기</b>\n",
        "\n",
        "* 학습 및 평가를 준비합니다."
      ]
    },
    {
      "cell_type": "code",
      "metadata": {
        "id": "jQeUwfzxU9bT"
      },
      "source": [
        "import torch\n",
        "from torch.nn.utils.rnn import pack_padded_sequence\n",
        "from torchvision import transforms\n",
        "\n",
        "device = torch.device('cuda' if torch.cuda.is_available() else 'cpu')\n",
        "\n",
        "model_path = \"models/\" # 학습된 모델이 저장될 경로\n",
        "crop_size = 224 # 랜덤하게 잘라낼 이미지 크기\n",
        "vocab_path = \"./vocab.pkl\" # 전처리된 Vocabulary 파일 경로\n",
        "\n",
        "# 모델 디렉토리 만들기\n",
        "if not os.path.exists(model_path):\n",
        "    os.makedirs(model_path)\n",
        "\n",
        "# Vocabulary 파일 불러오기\n",
        "with open(vocab_path, 'rb') as f:\n",
        "    vocab = pickle.load(f)\n",
        "\n",
        "# 사전 학습된(pre-trained) ResNet에 적용된 전처리 및 정규화 파라미터를 그대로 사용합니다.\n",
        "train_transform = transforms.Compose([ \n",
        "    transforms.RandomCrop(crop_size),\n",
        "    transforms.RandomHorizontalFlip(), \n",
        "    transforms.ToTensor(), \n",
        "    transforms.Normalize((0.485, 0.456, 0.406), (0.229, 0.224, 0.225))])\n",
        "\n",
        "val_transform = transforms.Compose([ \n",
        "    transforms.Resize(crop_size), \n",
        "    transforms.ToTensor(), \n",
        "    transforms.Normalize((0.485, 0.456, 0.406), (0.229, 0.224, 0.225))])\n",
        "\n",
        "test_transform = transforms.Compose([ \n",
        "    transforms.Resize(crop_size), \n",
        "    transforms.ToTensor(), \n",
        "    transforms.Normalize((0.485, 0.456, 0.406), (0.229, 0.224, 0.225))])\n",
        "\n",
        "batch_size = 128\n",
        "num_workers = 2\n",
        "\n",
        "# 데이터 로더(data loader) 선언\n",
        "train_data_loader = get_loader(train_image_dir, train_caption_path, vocab, train_transform, batch_size, shuffle=True, num_workers=num_workers, testing=False) \n",
        "val_data_loader = get_loader(val_image_dir, val_caption_path, vocab, val_transform, batch_size, shuffle=False, num_workers=num_workers, testing=False)\n",
        "test_data_loader = get_loader(test_image_dir, test_caption_path, vocab, test_transform, batch_size, shuffle=False, num_workers=num_workers, testing=True)"
      ],
      "execution_count": null,
      "outputs": []
    },
    {
      "cell_type": "code",
      "metadata": {
        "id": "UIBQ-YoG1Pyr",
        "colab": {
          "base_uri": "https://localhost:8080/",
          "height": 85,
          "referenced_widgets": [
            "76bcb0b8b30441a6ab877079972777dc",
            "ff222096f65c44a3b4711ba65d64a98d",
            "ca22585fe3c149a4af9f95bf112a9d37",
            "5c148ae2261942bcbf1273c3b3e3d578",
            "e20cdc01f6474e589c76b89fedbfb7b8",
            "fc17cf7c122d436c828141c324cbc7e1",
            "55ced85796e341fbb9bbb15b50a23918",
            "e0255a99320242d5bfbdf3a228a7f70f"
          ]
        },
        "outputId": "b4f730b6-58a6-4027-a6af-47eb79d33918"
      },
      "source": [
        "# 모델 하이퍼 파라미터 설정\n",
        "embed_size = 256 # 임베딩(embedding) 차원\n",
        "hidden_size = 512 # LSTM hidden states 차원\n",
        "num_layers = 1 # LSTM의 레이어 개수\n",
        "\n",
        "# 모델 객체 선언\n",
        "encoder = EncoderCNN(embed_size).to(device)\n",
        "decoder = DecoderRNN(embed_size, hidden_size, len(vocab), num_layers).to(device)\n",
        "\n",
        "num_epochs = 5\n",
        "learning_rate = 0.001\n",
        "\n",
        "log_step = 20 # 로그를 출력할 스텝(step)\n",
        "save_step = 1000 # 학습된 모델을 저장할 스텝(step)\n",
        "\n",
        "# 손실(loss) 및 최적화 함수 선언\n",
        "criterion = nn.CrossEntropyLoss()\n",
        "params = list(decoder.parameters()) + list(encoder.linear.parameters()) + list(encoder.bn.parameters())\n",
        "optimizer = torch.optim.Adam(params, lr=learning_rate)"
      ],
      "execution_count": null,
      "outputs": [
        {
          "output_type": "stream",
          "text": [
            "Downloading: \"https://download.pytorch.org/models/resnet101-5d3b4d8f.pth\" to /root/.cache/torch/hub/checkpoints/resnet101-5d3b4d8f.pth\n"
          ],
          "name": "stderr"
        },
        {
          "output_type": "display_data",
          "data": {
            "application/vnd.jupyter.widget-view+json": {
              "model_id": "76bcb0b8b30441a6ab877079972777dc",
              "version_minor": 0,
              "version_major": 2
            },
            "text/plain": [
              "HBox(children=(FloatProgress(value=0.0, max=178728960.0), HTML(value='')))"
            ]
          },
          "metadata": {
            "tags": []
          }
        },
        {
          "output_type": "stream",
          "text": [
            "\n"
          ],
          "name": "stdout"
        }
      ]
    },
    {
      "cell_type": "markdown",
      "metadata": {
        "id": "lsLJ839BIVrT"
      },
      "source": [
        "#### <b>학습 진행</b>\n",
        "\n",
        "* 전체 학습 과정에서 <b>약 15분~30분</b>이 소요됩니다."
      ]
    },
    {
      "cell_type": "code",
      "metadata": {
        "id": "sCPwRexz3dJZ",
        "colab": {
          "base_uri": "https://localhost:8080/"
        },
        "outputId": "f27403f4-a4af-4f2c-93dc-961420f36f0e"
      },
      "source": [
        "import time\n",
        "import numpy as np\n",
        "\n",
        "start_time = time.time() # 전체 학습 시간 측정\n",
        "\n",
        "# 모델 학습 진행\n",
        "for epoch in range(num_epochs):\n",
        "\n",
        "    # 먼저 학습 진행하기\n",
        "    print(\"[ Training ]\")\n",
        "    total_loss = 0\n",
        "    total_count = 0\n",
        "    total_step = len(train_data_loader)\n",
        "    for i, (images, captions, lengths) in enumerate(train_data_loader):\n",
        "        images = images.to(device)\n",
        "        captions = captions.to(device)\n",
        "        targets = pack_padded_sequence(captions, lengths, batch_first=True)[0]\n",
        "\n",
        "        # 순전파(forward), 역전파(backward) 및 학습 진행\n",
        "        features = encoder(images)\n",
        "        outputs = decoder(features, captions, lengths)\n",
        "        loss = criterion(outputs, targets)\n",
        "        decoder.zero_grad()\n",
        "        encoder.zero_grad()\n",
        "        loss.backward()\n",
        "        optimizer.step()\n",
        "\n",
        "        # 손실(loss) 값 계산\n",
        "        total_loss += loss.item()\n",
        "        total_count += images.shape[0]\n",
        "\n",
        "        # 로그(log) 정보 출력\n",
        "        if i % log_step == 0:\n",
        "            print('Epoch [{}/{}], Step [{}/{}], Average Loss: {:.4f}, Perplexity: {:5.4f}, Elapsed time: {:.4f}s'\n",
        "                  .format(epoch, num_epochs, i, total_step, total_loss / total_count, np.exp(loss.item()), time.time() - start_time))\n",
        "\n",
        "    # 모델 파일 저장하기\n",
        "    torch.save(decoder.state_dict(), os.path.join(model_path, f'decoder-{epoch + 1}.ckpt'))\n",
        "    torch.save(encoder.state_dict(), os.path.join(model_path, f'encoder-{epoch + 1}.ckpt'))\n",
        "    print(f\"Model saved: {os.path.join(model_path, f'decoder-{epoch + 1}.ckpt')}\")\n",
        "    print(f\"Model saved: {os.path.join(model_path, f'encoder-{epoch + 1}.ckpt')}\")\n",
        "\n",
        "    # 학습 이후에 평가 진행하기\n",
        "    print(\"[ Validation ]\")\n",
        "    total_loss = 0\n",
        "    total_count = 0\n",
        "    total_step = len(val_data_loader)\n",
        "    with torch.no_grad():\n",
        "        for i, (images, captions, lengths) in enumerate(val_data_loader):\n",
        "            images = images.to(device)\n",
        "            captions = captions.to(device)\n",
        "            targets = pack_padded_sequence(captions, lengths, batch_first=True)[0]\n",
        "\n",
        "            # 순전파(forward) 진행\n",
        "            features = encoder(images)\n",
        "            outputs = decoder(features, captions, lengths)\n",
        "            loss = criterion(outputs, targets)\n",
        "  \n",
        "            # 손실(loss) 값 계산\n",
        "            total_loss += loss.item()\n",
        "            total_count += images.shape[0]\n",
        "\n",
        "            # 로그(log) 정보 출력\n",
        "            if i % log_step == 0:\n",
        "                print('Epoch [{}/{}], Step [{}/{}], Average Loss: {:.4f}, Perplexity: {:5.4f}, Elapsed time: {:.4f}s'\n",
        "                      .format(epoch, num_epochs, i, total_step, total_loss / total_count, np.exp(loss.item()), time.time() - start_time))"
      ],
      "execution_count": null,
      "outputs": [
        {
          "output_type": "stream",
          "text": [
            "[ Training ]\n",
            "Epoch [0/5], Step [0/235], Average Loss: 0.0637, Perplexity: 3474.9176, Elapsed time: 1.5782s\n",
            "Epoch [0/5], Step [20/235], Average Loss: 0.0471, Perplexity: 124.2915, Elapsed time: 14.6509s\n",
            "Epoch [0/5], Step [40/235], Average Loss: 0.0409, Perplexity: 58.3561, Elapsed time: 27.8815s\n",
            "Epoch [0/5], Step [60/235], Average Loss: 0.0374, Perplexity: 43.9489, Elapsed time: 41.4261s\n",
            "Epoch [0/5], Step [80/235], Average Loss: 0.0351, Perplexity: 34.7779, Elapsed time: 55.2683s\n",
            "Epoch [0/5], Step [100/235], Average Loss: 0.0336, Perplexity: 29.2490, Elapsed time: 69.3876s\n",
            "Epoch [0/5], Step [120/235], Average Loss: 0.0324, Perplexity: 28.1537, Elapsed time: 84.1051s\n",
            "Epoch [0/5], Step [140/235], Average Loss: 0.0314, Perplexity: 23.1429, Elapsed time: 99.3865s\n",
            "Epoch [0/5], Step [160/235], Average Loss: 0.0307, Perplexity: 23.4758, Elapsed time: 114.2677s\n",
            "Epoch [0/5], Step [180/235], Average Loss: 0.0300, Perplexity: 23.6124, Elapsed time: 128.7523s\n",
            "Epoch [0/5], Step [200/235], Average Loss: 0.0294, Perplexity: 22.2675, Elapsed time: 143.0829s\n",
            "Epoch [0/5], Step [220/235], Average Loss: 0.0289, Perplexity: 19.1186, Elapsed time: 157.5724s\n",
            "Model saved: models/decoder-1.ckpt\n",
            "Model saved: models/encoder-1.ckpt\n",
            "[ Validation ]\n",
            "Epoch [0/5], Step [0/40], Average Loss: 0.0236, Perplexity: 20.4422, Elapsed time: 169.6544s\n",
            "Epoch [0/5], Step [20/40], Average Loss: 0.0242, Perplexity: 22.2154, Elapsed time: 184.3277s\n",
            "[ Training ]\n",
            "Epoch [1/5], Step [0/235], Average Loss: 0.0238, Perplexity: 21.1193, Elapsed time: 199.0377s\n",
            "Epoch [1/5], Step [20/235], Average Loss: 0.0230, Perplexity: 17.8067, Elapsed time: 213.7003s\n",
            "Epoch [1/5], Step [40/235], Average Loss: 0.0227, Perplexity: 17.6520, Elapsed time: 228.2921s\n",
            "Epoch [1/5], Step [60/235], Average Loss: 0.0225, Perplexity: 15.8429, Elapsed time: 242.8820s\n",
            "Epoch [1/5], Step [80/235], Average Loss: 0.0224, Perplexity: 17.6451, Elapsed time: 257.5303s\n",
            "Epoch [1/5], Step [100/235], Average Loss: 0.0223, Perplexity: 16.0477, Elapsed time: 272.1897s\n",
            "Epoch [1/5], Step [120/235], Average Loss: 0.0222, Perplexity: 17.8141, Elapsed time: 286.8964s\n",
            "Epoch [1/5], Step [140/235], Average Loss: 0.0221, Perplexity: 14.2885, Elapsed time: 301.6345s\n",
            "Epoch [1/5], Step [160/235], Average Loss: 0.0220, Perplexity: 15.8761, Elapsed time: 316.3692s\n",
            "Epoch [1/5], Step [180/235], Average Loss: 0.0220, Perplexity: 13.4447, Elapsed time: 331.1256s\n",
            "Epoch [1/5], Step [200/235], Average Loss: 0.0219, Perplexity: 15.5125, Elapsed time: 345.8583s\n",
            "Epoch [1/5], Step [220/235], Average Loss: 0.0218, Perplexity: 15.3861, Elapsed time: 360.5847s\n",
            "Model saved: models/decoder-2.ckpt\n",
            "Model saved: models/encoder-2.ckpt\n",
            "[ Validation ]\n",
            "Epoch [1/5], Step [0/40], Average Loss: 0.0214, Perplexity: 15.5435, Elapsed time: 372.5800s\n",
            "Epoch [1/5], Step [20/40], Average Loss: 0.0220, Perplexity: 17.6198, Elapsed time: 387.0332s\n",
            "[ Training ]\n",
            "Epoch [2/5], Step [0/235], Average Loss: 0.0201, Perplexity: 13.0318, Elapsed time: 401.5556s\n",
            "Epoch [2/5], Step [20/235], Average Loss: 0.0203, Perplexity: 14.2361, Elapsed time: 416.3183s\n",
            "Epoch [2/5], Step [40/235], Average Loss: 0.0200, Perplexity: 12.9821, Elapsed time: 431.0378s\n",
            "Epoch [2/5], Step [60/235], Average Loss: 0.0200, Perplexity: 14.6107, Elapsed time: 445.7605s\n",
            "Epoch [2/5], Step [80/235], Average Loss: 0.0200, Perplexity: 11.8445, Elapsed time: 460.5002s\n",
            "Epoch [2/5], Step [100/235], Average Loss: 0.0200, Perplexity: 12.4135, Elapsed time: 475.2180s\n",
            "Epoch [2/5], Step [120/235], Average Loss: 0.0199, Perplexity: 10.8086, Elapsed time: 489.9801s\n",
            "Epoch [2/5], Step [140/235], Average Loss: 0.0198, Perplexity: 12.4627, Elapsed time: 504.7283s\n",
            "Epoch [2/5], Step [160/235], Average Loss: 0.0198, Perplexity: 11.7922, Elapsed time: 519.4648s\n",
            "Epoch [2/5], Step [180/235], Average Loss: 0.0197, Perplexity: 12.2025, Elapsed time: 534.1971s\n",
            "Epoch [2/5], Step [200/235], Average Loss: 0.0197, Perplexity: 11.0211, Elapsed time: 548.9189s\n",
            "Epoch [2/5], Step [220/235], Average Loss: 0.0197, Perplexity: 12.0674, Elapsed time: 563.5752s\n",
            "Model saved: models/decoder-3.ckpt\n",
            "Model saved: models/encoder-3.ckpt\n",
            "[ Validation ]\n",
            "Epoch [2/5], Step [0/40], Average Loss: 0.0204, Perplexity: 13.6435, Elapsed time: 575.5372s\n",
            "Epoch [2/5], Step [20/40], Average Loss: 0.0209, Perplexity: 15.5702, Elapsed time: 589.9615s\n",
            "[ Training ]\n",
            "Epoch [3/5], Step [0/235], Average Loss: 0.0183, Perplexity: 10.3690, Elapsed time: 604.4925s\n",
            "Epoch [3/5], Step [20/235], Average Loss: 0.0184, Perplexity: 9.4537, Elapsed time: 619.2981s\n",
            "Epoch [3/5], Step [40/235], Average Loss: 0.0184, Perplexity: 11.3343, Elapsed time: 634.1247s\n",
            "Epoch [3/5], Step [60/235], Average Loss: 0.0184, Perplexity: 11.1127, Elapsed time: 648.7422s\n",
            "Epoch [3/5], Step [80/235], Average Loss: 0.0184, Perplexity: 10.6278, Elapsed time: 663.2978s\n",
            "Epoch [3/5], Step [100/235], Average Loss: 0.0184, Perplexity: 9.3904, Elapsed time: 677.9316s\n",
            "Epoch [3/5], Step [120/235], Average Loss: 0.0183, Perplexity: 10.6302, Elapsed time: 692.7203s\n",
            "Epoch [3/5], Step [140/235], Average Loss: 0.0183, Perplexity: 10.3978, Elapsed time: 707.4996s\n",
            "Epoch [3/5], Step [160/235], Average Loss: 0.0183, Perplexity: 10.3541, Elapsed time: 722.1861s\n",
            "Epoch [3/5], Step [180/235], Average Loss: 0.0183, Perplexity: 9.9929, Elapsed time: 736.7713s\n",
            "Epoch [3/5], Step [200/235], Average Loss: 0.0183, Perplexity: 10.6560, Elapsed time: 751.3810s\n",
            "Epoch [3/5], Step [220/235], Average Loss: 0.0183, Perplexity: 10.0419, Elapsed time: 766.0802s\n",
            "Model saved: models/decoder-4.ckpt\n",
            "Model saved: models/encoder-4.ckpt\n",
            "[ Validation ]\n",
            "Epoch [3/5], Step [0/40], Average Loss: 0.0199, Perplexity: 12.8181, Elapsed time: 778.1622s\n",
            "Epoch [3/5], Step [20/40], Average Loss: 0.0203, Perplexity: 14.8366, Elapsed time: 792.7146s\n",
            "[ Training ]\n",
            "Epoch [4/5], Step [0/235], Average Loss: 0.0182, Perplexity: 10.3089, Elapsed time: 807.3305s\n",
            "Epoch [4/5], Step [20/235], Average Loss: 0.0172, Perplexity: 8.6118, Elapsed time: 822.2017s\n",
            "Epoch [4/5], Step [40/235], Average Loss: 0.0172, Perplexity: 8.6410, Elapsed time: 837.0036s\n",
            "Epoch [4/5], Step [60/235], Average Loss: 0.0172, Perplexity: 10.4657, Elapsed time: 851.7013s\n",
            "Epoch [4/5], Step [80/235], Average Loss: 0.0172, Perplexity: 9.3511, Elapsed time: 866.3190s\n",
            "Epoch [4/5], Step [100/235], Average Loss: 0.0172, Perplexity: 8.9248, Elapsed time: 880.9394s\n",
            "Epoch [4/5], Step [120/235], Average Loss: 0.0172, Perplexity: 8.8137, Elapsed time: 895.6093s\n",
            "Epoch [4/5], Step [140/235], Average Loss: 0.0172, Perplexity: 9.2420, Elapsed time: 910.3467s\n",
            "Epoch [4/5], Step [160/235], Average Loss: 0.0172, Perplexity: 9.5322, Elapsed time: 925.1214s\n",
            "Epoch [4/5], Step [180/235], Average Loss: 0.0172, Perplexity: 9.2761, Elapsed time: 939.8629s\n",
            "Epoch [4/5], Step [200/235], Average Loss: 0.0172, Perplexity: 8.9067, Elapsed time: 954.6202s\n",
            "Epoch [4/5], Step [220/235], Average Loss: 0.0172, Perplexity: 9.2085, Elapsed time: 969.3920s\n",
            "Model saved: models/decoder-5.ckpt\n",
            "Model saved: models/encoder-5.ckpt\n",
            "[ Validation ]\n",
            "Epoch [4/5], Step [0/40], Average Loss: 0.0197, Perplexity: 12.4852, Elapsed time: 981.4606s\n",
            "Epoch [4/5], Step [20/40], Average Loss: 0.0200, Perplexity: 14.1601, Elapsed time: 995.9996s\n"
          ],
          "name": "stdout"
        }
      ]
    },
    {
      "cell_type": "code",
      "metadata": {
        "colab": {
          "base_uri": "https://localhost:8080/",
          "height": 17
        },
        "id": "SkWwxEm_iOC8",
        "outputId": "26bbe410-6035-4d5e-9348-f72fdb1a5f29"
      },
      "source": [
        "# 학습된 모델 저장\n",
        "from google.colab import files\n",
        "\n",
        "files.download('models/encoder-5.ckpt')\n",
        "files.download('models/decoder-5.ckpt')"
      ],
      "execution_count": null,
      "outputs": [
        {
          "output_type": "display_data",
          "data": {
            "application/javascript": [
              "\n",
              "    async function download(id, filename, size) {\n",
              "      if (!google.colab.kernel.accessAllowed) {\n",
              "        return;\n",
              "      }\n",
              "      const div = document.createElement('div');\n",
              "      const label = document.createElement('label');\n",
              "      label.textContent = `Downloading \"${filename}\": `;\n",
              "      div.appendChild(label);\n",
              "      const progress = document.createElement('progress');\n",
              "      progress.max = size;\n",
              "      div.appendChild(progress);\n",
              "      document.body.appendChild(div);\n",
              "\n",
              "      const buffers = [];\n",
              "      let downloaded = 0;\n",
              "\n",
              "      const channel = await google.colab.kernel.comms.open(id);\n",
              "      // Send a message to notify the kernel that we're ready.\n",
              "      channel.send({})\n",
              "\n",
              "      for await (const message of channel.messages) {\n",
              "        // Send a message to notify the kernel that we're ready.\n",
              "        channel.send({})\n",
              "        if (message.buffers) {\n",
              "          for (const buffer of message.buffers) {\n",
              "            buffers.push(buffer);\n",
              "            downloaded += buffer.byteLength;\n",
              "            progress.value = downloaded;\n",
              "          }\n",
              "        }\n",
              "      }\n",
              "      const blob = new Blob(buffers, {type: 'application/binary'});\n",
              "      const a = document.createElement('a');\n",
              "      a.href = window.URL.createObjectURL(blob);\n",
              "      a.download = filename;\n",
              "      div.appendChild(a);\n",
              "      a.click();\n",
              "      div.remove();\n",
              "    }\n",
              "  "
            ],
            "text/plain": [
              "<IPython.core.display.Javascript object>"
            ]
          },
          "metadata": {
            "tags": []
          }
        },
        {
          "output_type": "display_data",
          "data": {
            "application/javascript": [
              "download(\"download_f018b864-0659-4d46-bb75-c3d0af93b9ad\", \"encoder-5.ckpt\", 172740767)"
            ],
            "text/plain": [
              "<IPython.core.display.Javascript object>"
            ]
          },
          "metadata": {
            "tags": []
          }
        },
        {
          "output_type": "display_data",
          "data": {
            "application/javascript": [
              "\n",
              "    async function download(id, filename, size) {\n",
              "      if (!google.colab.kernel.accessAllowed) {\n",
              "        return;\n",
              "      }\n",
              "      const div = document.createElement('div');\n",
              "      const label = document.createElement('label');\n",
              "      label.textContent = `Downloading \"${filename}\": `;\n",
              "      div.appendChild(label);\n",
              "      const progress = document.createElement('progress');\n",
              "      progress.max = size;\n",
              "      div.appendChild(progress);\n",
              "      document.body.appendChild(div);\n",
              "\n",
              "      const buffers = [];\n",
              "      let downloaded = 0;\n",
              "\n",
              "      const channel = await google.colab.kernel.comms.open(id);\n",
              "      // Send a message to notify the kernel that we're ready.\n",
              "      channel.send({})\n",
              "\n",
              "      for await (const message of channel.messages) {\n",
              "        // Send a message to notify the kernel that we're ready.\n",
              "        channel.send({})\n",
              "        if (message.buffers) {\n",
              "          for (const buffer of message.buffers) {\n",
              "            buffers.push(buffer);\n",
              "            downloaded += buffer.byteLength;\n",
              "            progress.value = downloaded;\n",
              "          }\n",
              "        }\n",
              "      }\n",
              "      const blob = new Blob(buffers, {type: 'application/binary'});\n",
              "      const a = document.createElement('a');\n",
              "      a.href = window.URL.createObjectURL(blob);\n",
              "      a.download = filename;\n",
              "      div.appendChild(a);\n",
              "      a.click();\n",
              "      div.remove();\n",
              "    }\n",
              "  "
            ],
            "text/plain": [
              "<IPython.core.display.Javascript object>"
            ]
          },
          "metadata": {
            "tags": []
          }
        },
        {
          "output_type": "display_data",
          "data": {
            "application/javascript": [
              "download(\"download_52e8f584-191b-4a01-bc58-8ad5600012cf\", \"decoder-5.ckpt\", 16909827)"
            ],
            "text/plain": [
              "<IPython.core.display.Javascript object>"
            ]
          },
          "metadata": {
            "tags": []
          }
        }
      ]
    },
    {
      "cell_type": "markdown",
      "metadata": {
        "id": "nq9PIqIyTE26"
      },
      "source": [
        "#### <b>결과 확인</b>\n",
        "\n",
        "* 평가 데이터셋 중 하나의 이미지를 골라 학습된 모델을 이용하여 결과를 확인합니다."
      ]
    },
    {
      "cell_type": "code",
      "metadata": {
        "colab": {
          "base_uri": "https://localhost:8080/"
        },
        "id": "iefQO5jMibUa",
        "outputId": "3e0bd0fc-6c77-4fde-cb3c-3acd0e8f78f1"
      },
      "source": [
        "!wget https://postechackr-my.sharepoint.com/:u:/g/personal/dongbinna_postech_ac_kr/ERnDZFI8KD9OrX8rZGB4zucBLL1C2OQl5zdEIj9M23VH8A?download=1 -O nic_encoder_ResNet101.ckpt\n",
        "!wget https://postechackr-my.sharepoint.com/:u:/g/personal/dongbinna_postech_ac_kr/EfpMfIRuTy1NndX8U7C70XMBmu6wd3JofEo5T-uyIP8YOA?download=1 -O nic_decoder_ResNet101.ckpt"
      ],
      "execution_count": null,
      "outputs": [
        {
          "output_type": "stream",
          "text": [
            "--2020-12-02 21:23:21--  https://postechackr-my.sharepoint.com/:u:/g/personal/dongbinna_postech_ac_kr/ERnDZFI8KD9OrX8rZGB4zucBLL1C2OQl5zdEIj9M23VH8A?download=1\n",
            "Resolving postechackr-my.sharepoint.com (postechackr-my.sharepoint.com)... 13.107.136.9\n",
            "Connecting to postechackr-my.sharepoint.com (postechackr-my.sharepoint.com)|13.107.136.9|:443... connected.\n",
            "HTTP request sent, awaiting response... 302 Found\n",
            "Location: /personal/dongbinna_postech_ac_kr/Documents/Research/models/nic_encoder.ckpt?originalPath=aHR0cHM6Ly9wb3N0ZWNoYWNrci1teS5zaGFyZXBvaW50LmNvbS86dTovZy9wZXJzb25hbC9kb25nYmlubmFfcG9zdGVjaF9hY19rci9FUm5EWkZJOEtEOU9yWDhyWkdCNHp1Y0JMTDFDMk9RbDV6ZEVJajlNMjNWSDhBP3J0aW1lPVY2OGJmd2lYMkVn [following]\n",
            "--2020-12-02 21:23:22--  https://postechackr-my.sharepoint.com/personal/dongbinna_postech_ac_kr/Documents/Research/models/nic_encoder.ckpt?originalPath=aHR0cHM6Ly9wb3N0ZWNoYWNrci1teS5zaGFyZXBvaW50LmNvbS86dTovZy9wZXJzb25hbC9kb25nYmlubmFfcG9zdGVjaF9hY19rci9FUm5EWkZJOEtEOU9yWDhyWkdCNHp1Y0JMTDFDMk9RbDV6ZEVJajlNMjNWSDhBP3J0aW1lPVY2OGJmd2lYMkVn\n",
            "Reusing existing connection to postechackr-my.sharepoint.com:443.\n",
            "HTTP request sent, awaiting response... 200 OK\n",
            "Length: 172740767 (165M) [application/octet-stream]\n",
            "Saving to: ‘nic_encoder.ckpt’\n",
            "\n",
            "nic_encoder.ckpt    100%[===================>] 164.74M  36.8MB/s    in 6.4s    \n",
            "\n",
            "2020-12-02 21:23:29 (25.8 MB/s) - ‘nic_encoder.ckpt’ saved [172740767/172740767]\n",
            "\n",
            "--2020-12-02 21:23:29--  https://postechackr-my.sharepoint.com/:u:/g/personal/dongbinna_postech_ac_kr/EfpMfIRuTy1NndX8U7C70XMBmu6wd3JofEo5T-uyIP8YOA?download=1\n",
            "Resolving postechackr-my.sharepoint.com (postechackr-my.sharepoint.com)... 13.107.136.9\n",
            "Connecting to postechackr-my.sharepoint.com (postechackr-my.sharepoint.com)|13.107.136.9|:443... connected.\n",
            "HTTP request sent, awaiting response... 302 Found\n",
            "Location: /personal/dongbinna_postech_ac_kr/Documents/Research/models/nic_decoder.ckpt?originalPath=aHR0cHM6Ly9wb3N0ZWNoYWNrci1teS5zaGFyZXBvaW50LmNvbS86dTovZy9wZXJzb25hbC9kb25nYmlubmFfcG9zdGVjaF9hY19rci9FZnBNZklSdVR5MU5uZFg4VTdDNzBYTUJtdTZ3ZDNKb2ZFbzVULXV5SVA4WU9BP3J0aW1lPXFtNEZoQWlYMkVn [following]\n",
            "--2020-12-02 21:23:30--  https://postechackr-my.sharepoint.com/personal/dongbinna_postech_ac_kr/Documents/Research/models/nic_decoder.ckpt?originalPath=aHR0cHM6Ly9wb3N0ZWNoYWNrci1teS5zaGFyZXBvaW50LmNvbS86dTovZy9wZXJzb25hbC9kb25nYmlubmFfcG9zdGVjaF9hY19rci9FZnBNZklSdVR5MU5uZFg4VTdDNzBYTUJtdTZ3ZDNKb2ZFbzVULXV5SVA4WU9BP3J0aW1lPXFtNEZoQWlYMkVn\n",
            "Reusing existing connection to postechackr-my.sharepoint.com:443.\n",
            "HTTP request sent, awaiting response... 200 OK\n",
            "Length: 16909827 (16M) [application/octet-stream]\n",
            "Saving to: ‘nic_decoder.ckpt’\n",
            "\n",
            "nic_decoder.ckpt    100%[===================>]  16.13M  5.24MB/s    in 3.1s    \n",
            "\n",
            "2020-12-02 21:23:34 (5.24 MB/s) - ‘nic_decoder.ckpt’ saved [16909827/16909827]\n",
            "\n"
          ],
          "name": "stdout"
        }
      ]
    },
    {
      "cell_type": "code",
      "metadata": {
        "id": "V0qTKFpg81Ln"
      },
      "source": [
        "def load_image(image_path, transform=None):\n",
        "    image = Image.open(image_path).convert('RGB')\n",
        "    image = image.resize([224, 224], Image.LANCZOS)\n",
        "\n",
        "    if transform is not None:\n",
        "        image = transform(image).unsqueeze(0)\n",
        "    \n",
        "    return image\n",
        "\n",
        "image_path = \"./resized_test/images/872622575_ba1d3632cc.jpg\" # 캡션(caption)을 생성할 입력 이미지\n",
        "encoder_path = \"./nic_encoder_ResNet101.ckpt\" # path for trained encoder\n",
        "decoder_path = \"./nic_decoder_ResNet101.ckpt\" # path for trained decoder\n",
        "vocab_path = \"./vocab.pkl\" # path for vocabulary wrapper\n",
        "\n",
        "# Model parameters (should be same as paramters in train.py)\n",
        "embed_size = 256 # dimension of word embedding vectors\n",
        "hidden_size = 512 # dimension of lstm hidden states\n",
        "num_layers = 1 # number of layers in lstm"
      ],
      "execution_count": null,
      "outputs": []
    },
    {
      "cell_type": "code",
      "metadata": {
        "id": "KTmwf1jKLXSC"
      },
      "source": [
        "# 이미지 전처리(image preprocessing)\n",
        "transform = transforms.Compose([\n",
        "    transforms.ToTensor(), \n",
        "    transforms.Normalize((0.485, 0.456, 0.406), (0.229, 0.224, 0.225))])\n",
        "\n",
        "# Load vocabulary wrapper\n",
        "with open(vocab_path, 'rb') as f:\n",
        "    vocab = pickle.load(f)\n",
        "\n",
        "# Build models\n",
        "encoder = EncoderCNN(embed_size).eval() # eval mode (batchnorm uses moving mean/variance)\n",
        "decoder = DecoderRNN(embed_size, hidden_size, len(vocab), num_layers)\n",
        "encoder = encoder.to(device)\n",
        "decoder = decoder.to(device)\n",
        "\n",
        "# Load the trained model parameters\n",
        "encoder.load_state_dict(torch.load(encoder_path))\n",
        "decoder.load_state_dict(torch.load(decoder_path))\n",
        "\n",
        "# Prepare an image\n",
        "image = load_image(image_path, transform)\n",
        "image_tensor = image.to(device)\n",
        "\n",
        "# Generate an caption from the image\n",
        "feature = encoder(image_tensor)\n",
        "sampled_ids = decoder.sample(feature)\n",
        "sampled_ids = sampled_ids[0].cpu().numpy() # (1, max_seq_length) -> (max_seq_length)\n",
        "\n",
        "# Convert word_ids to words\n",
        "sampled_caption = []\n",
        "for word_id in sampled_ids: # 하나씩 단어 인덱스를 확인하며\n",
        "    word = vocab.idx2word[word_id] # 단어 문자열로 바꾸어 삽입\n",
        "    sampled_caption.append(word)\n",
        "    if word == '<end>':\n",
        "        break\n",
        "sentence = ' '.join(sampled_caption)"
      ],
      "execution_count": null,
      "outputs": []
    },
    {
      "cell_type": "code",
      "metadata": {
        "id": "iyn6oKJrAVL2",
        "colab": {
          "base_uri": "https://localhost:8080/",
          "height": 287
        },
        "outputId": "fe3b3210-88ff-4efd-fad6-4dcb949cdbd9"
      },
      "source": [
        "import matplotlib.pyplot as plt\n",
        "\n",
        "# 이미지 및 생성된 캡션(caption) 문장 출력\n",
        "image = Image.open(image_path)\n",
        "plt.imshow(np.asarray(image))\n",
        "plt.show()\n",
        "print(sentence)"
      ],
      "execution_count": null,
      "outputs": [
        {
          "output_type": "display_data",
          "data": {
            "image/png": "[encoded data removed]",
            "text/plain": [
              "<Figure size 432x288 with 1 Axes>"
            ]
          },
          "metadata": {
            "tags": [],
            "needs_background": "light"
          }
        },
        {
          "output_type": "stream",
          "text": [
            "<start> a man is climbing a rock wall . <end>\n"
          ],
          "name": "stdout"
        }
      ]
    },
    {
      "cell_type": "markdown",
      "metadata": {
        "id": "CdvToS3_TSvj"
      },
      "source": [
        "#### <b>BLEU Score</b> 계산\n",
        "\n",
        "* 테스트(test) 데이터셋을 이용하여 BLEU 점수(score)를 계산합니다."
      ]
    },
    {
      "cell_type": "code",
      "metadata": {
        "colab": {
          "base_uri": "https://localhost:8080/"
        },
        "id": "iXqOrtU2AMXO",
        "outputId": "b2603fe3-9f08-42db-c1e0-bcd43c8ca271"
      },
      "source": [
        "predictions = []\n",
        "answers = []\n",
        "answers_per_image = []\n",
        "\n",
        "total_step = len(test_data_loader)\n",
        "cnt = 0\n",
        "\n",
        "with torch.no_grad():\n",
        "    for i, (images, captions, lengths) in enumerate(test_data_loader):\n",
        "        images = images.to(device)\n",
        "        captions = captions.to(device)\n",
        "\n",
        "        # 순전파(forward) 진행\n",
        "        features = encoder(images)\n",
        "        sampled_ids_list = decoder.sample(features)\n",
        "\n",
        "        for index in range(len(images)):\n",
        "            sampled_ids = sampled_ids_list[index].cpu().numpy()\n",
        "\n",
        "            # 정답 문장(answer sentences)\n",
        "            answer = []\n",
        "            for word_id in captions[index]: # 하나씩 단어 인덱스를 확인하며\n",
        "                word = vocab.idx2word[word_id.item()] # 단어 문자열로 바꾸어 삽입\n",
        "                answer.append(word)\n",
        "                if word == '<end>':\n",
        "                    break\n",
        "            answers_per_image.append(answer[1:-1]) # 정답 문장을 삽입 (<sos>과 <eos>는 제외)\n",
        "\n",
        "            if (cnt + 1) % 5 == 0: # 이미지당 캡션이 5개씩 존재\n",
        "                answers.append(answers_per_image) # 5개를 한꺼번에 리스트로 삽입\n",
        "                answers_per_image = []\n",
        "\n",
        "                # 예측한 문장(predicted sentences)\n",
        "                prediction = []\n",
        "                for word_id in sampled_ids: # 하나씩 단어 인덱스를 확인하며\n",
        "                    word = vocab.idx2word[word_id] # 단어 문자열로 바꾸어 삽입\n",
        "                    prediction.append(word)\n",
        "                    if word == '<end>':\n",
        "                        break\n",
        "                predictions.append(prediction[1:-1]) # 예측한 문장에 대해서는 1개만 삽입 (<sos>과 <eos>는 제외)\n",
        "            cnt += 1\n",
        "\n",
        "        if i % log_step == 0:\n",
        "            print(f\"[ Testing ] Batch size: {i}/{total_step}\")"
      ],
      "execution_count": null,
      "outputs": [
        {
          "output_type": "stream",
          "text": [
            "[ Testing ] Batch size: 0/43\n",
            "[ Testing ] Batch size: 20/43\n",
            "[ Testing ] Batch size: 40/43\n"
          ],
          "name": "stdout"
        }
      ]
    },
    {
      "cell_type": "code",
      "metadata": {
        "colab": {
          "base_uri": "https://localhost:8080/"
        },
        "id": "d2r16lSYxH9V",
        "outputId": "0f54ca0d-e2ee-4673-dc91-8ab448ad8e79"
      },
      "source": [
        "print(\"예측한 문장의 수:\", len(predictions))\n",
        "print(\"정답 문장 집합의 수 (5개씩):\", len(answers))"
      ],
      "execution_count": null,
      "outputs": [
        {
          "output_type": "stream",
          "text": [
            "예측한 문장의 수: 1091\n",
            "정답 문장 집합의 수 (5개씩): 1091\n"
          ],
          "name": "stdout"
        }
      ]
    },
    {
      "cell_type": "code",
      "metadata": {
        "colab": {
          "base_uri": "https://localhost:8080/"
        },
        "id": "3tURgRtA85FV",
        "outputId": "214a6e38-62c0-48aa-e611-ee3229773362"
      },
      "source": [
        "index = 2\n",
        "print(\"[ 정답 캡션들 ]\")\n",
        "for answer in answers[index]:\n",
        "    print(answer)\n",
        "\n",
        "print(\"[ 예측된 캡션 ]\")\n",
        "print(predictions[index])"
      ],
      "execution_count": null,
      "outputs": [
        {
          "output_type": "stream",
          "text": [
            "[ 정답 캡션들 ]\n",
            "['a', 'brown', 'and', 'white', 'dog', 'is', 'playing', 'with', 'a', 'toy', 'in', 'a', 'field', 'of', 'green', 'grass', 'and', 'clover', '.']\n",
            "['a', 'brown', 'and', 'white', 'dog', 'retrieving', 'a', 'white', 'plushie', 'toy', 'in', 'a', 'field', 'of', 'clover', '.']\n",
            "['a', 'distorted', 'photo', 'of', 'a', 'playing', 'dog', 'in', 'a', 'flower', 'field']\n",
            "['a', 'dog', 'in', 'grass', 'carrying', 'a', 'toy', 'in', 'its', 'mouth', '.']\n",
            "['the', 'little', 'brown', 'dog', 'is', 'running', 'through', 'a', 'clover', 'field', 'with', 'a', 'white', 'object', 'in', 'its', 'mouth', '.']\n",
            "[ 예측된 캡션 ]\n",
            "['a', 'dog', 'runs', 'through', 'the', 'grass', '.']\n"
          ],
          "name": "stdout"
        }
      ]
    },
    {
      "cell_type": "code",
      "metadata": {
        "colab": {
          "base_uri": "https://localhost:8080/"
        },
        "id": "ADNIggoZxBaF",
        "outputId": "02e6bd2d-cf35-4b6d-a1ff-573c5120ea89"
      },
      "source": [
        "from torchtext.data.metrics import bleu_score\n",
        "\n",
        "bleu = bleu_score(predictions, answers, max_n=4, weights=[0.25, 0.25, 0.25, 0.25])\n",
        "print(f'Total BLEU Score = {bleu * 100:.2f}')\n",
        "\n",
        "individual_bleu1_score = bleu_score(predictions, answers, max_n=4, weights=[1, 0, 0, 0])\n",
        "individual_bleu2_score = bleu_score(predictions, answers, max_n=4, weights=[0, 1, 0, 0])\n",
        "individual_bleu3_score = bleu_score(predictions, answers, max_n=4, weights=[0, 0, 1, 0])\n",
        "individual_bleu4_score = bleu_score(predictions, answers, max_n=4, weights=[0, 0, 0, 1])\n",
        "\n",
        "print(f'Individual BLEU1 score = {individual_bleu1_score * 100:.2f}') \n",
        "print(f'Individual BLEU2 score = {individual_bleu2_score * 100:.2f}') \n",
        "print(f'Individual BLEU3 score = {individual_bleu3_score * 100:.2f}') \n",
        "print(f'Individual BLEU4 score = {individual_bleu4_score * 100:.2f}') \n",
        "\n",
        "cumulative_bleu1_score = bleu_score(predictions, answers, max_n=4, weights=[1, 0, 0, 0])\n",
        "cumulative_bleu2_score = bleu_score(predictions, answers, max_n=4, weights=[1/2, 1/2, 0, 0])\n",
        "cumulative_bleu3_score = bleu_score(predictions, answers, max_n=4, weights=[1/3, 1/3, 1/3, 0])\n",
        "cumulative_bleu4_score = bleu_score(predictions, answers, max_n=4, weights=[1/4, 1/4, 1/4, 1/4])\n",
        "\n",
        "print(f'Cumulative BLEU1 score = {cumulative_bleu1_score * 100:.2f}') \n",
        "print(f'Cumulative BLEU2 score = {cumulative_bleu2_score * 100:.2f}') \n",
        "print(f'Cumulative BLEU3 score = {cumulative_bleu3_score * 100:.2f}') \n",
        "print(f'Cumulative BLEU4 score = {cumulative_bleu4_score * 100:.2f}') "
      ],
      "execution_count": null,
      "outputs": [
        {
          "output_type": "stream",
          "text": [
            "Total BLEU Score = 16.99\n",
            "Individual BLEU1 score = 60.54\n",
            "Individual BLEU2 score = 25.05\n",
            "Individual BLEU3 score = 10.93\n",
            "Individual BLEU4 score = 5.02\n",
            "Cumulative BLEU1 score = 60.54\n",
            "Cumulative BLEU2 score = 38.94\n",
            "Cumulative BLEU3 score = 25.50\n",
            "Cumulative BLEU4 score = 16.99\n"
          ],
          "name": "stdout"
        }
      ]
    }
  ]
}